{
 "cells": [
  {
   "cell_type": "code",
   "execution_count": 7,
   "id": "a2207336-d015-4dd7-bf52-43d76b045cdf",
   "metadata": {
    "tags": []
   },
   "outputs": [],
   "source": [
    "!pip install earthengine-api\n"
   ]
  },
  {
   "cell_type": "code",
   "execution_count": null,
   "id": "e1f4099b-29da-4464-ade7-d102a7ac2a6d",
   "metadata": {},
   "outputs": [],
   "source": [
    "# import earth engine API\n",
    "import ee"
   ]
  },
  {
   "cell_type": "code",
   "execution_count": 19,
   "id": "9efd86f0-d89f-4669-a7b3-3820ecd61b0c",
   "metadata": {
    "tags": []
   },
   "outputs": [],
   "source": [
    "# get Oauth2 credentials for using already set up service account\n",
    "service_account = 'eemodis250@ee-modis250.iam.gserviceaccount.com'\n",
    "credentials = ee.ServiceAccountCredentials(service_account,'C:/Users/rfernand/Downloads/ee-modis250-94c9343b47d6.json')\n",
    "ee.Initialize(credentials)\n"
   ]
  },
  {
   "cell_type": "code",
   "execution_count": 24,
   "id": "3d76299b-744c-40b5-994c-e29df2728d4e",
   "metadata": {
    "tags": []
   },
   "outputs": [
    {
     "name": "stdout",
     "output_type": "stream",
     "text": [
      "['B1', 'B2', 'B3', 'B4', 'B5', 'B6', 'B7', 'B8', 'B8A', 'B9', 'B11', 'B12', 'AOT', 'WVP', 'SCL', 'TCI_R', 'TCI_G', 'TCI_B', 'MSK_CLDPRB', 'MSK_SNWPRB', 'QA10', 'QA20', 'QA60']\n"
     ]
    }
   ],
   "source": [
    "# verify we can access satellite imagery at google\n",
    "i1 = ee.ImageCollection(\"COPERNICUS/S2_SR_HARMONIZED\").first()\n",
    "print(i1.bandNames().getInfo())\n"
   ]
  },
  {
   "cell_type": "code",
   "execution_count": 27,
   "id": "30507541-5096-44f1-9e49-cfe2f7f336aa",
   "metadata": {
    "tags": []
   },
   "outputs": [
    {
     "name": "stdout",
     "output_type": "stream",
     "text": [
      "{'assets': [{'type': 'IMAGE', 'name': 'projects/ee-modis250/assets/20220722T155911_20220722T155939_T18TVR_LAI', 'id': 'projects/ee-modis250/assets/20220722T155911_20220722T155939_T18TVR_LAI', 'updateTime': '2022-11-03T22:08:28.392585Z'}, {'type': 'TABLE', 'name': 'projects/ee-modis250/assets/ABBY_2019', 'id': 'projects/ee-modis250/assets/ABBY_2019', 'updateTime': '2022-11-03T22:08:29.103331Z'}, {'type': 'TABLE', 'name': 'projects/ee-modis250/assets/ABBY_2021', 'id': 'projects/ee-modis250/assets/ABBY_2021', 'updateTime': '2022-11-03T22:08:29.804391Z'}, {'type': 'FOLDER', 'name': 'projects/ee-modis250/assets/ALR', 'id': 'projects/ee-modis250/assets/ALR', 'updateTime': '2022-11-03T21:58:15.015869Z'}, {'type': 'FOLDER', 'name': 'projects/ee-modis250/assets/Canada_LC2020', 'id': 'projects/ee-modis250/assets/Canada_LC2020', 'updateTime': '2022-11-04T19:50:20.923721Z'}, {'type': 'FOLDER', 'name': 'projects/ee-modis250/assets/FTL_trees_LAI', 'id': 'projects/ee-modis250/assets/FTL_trees_LAI', 'updateTime': '2023-03-23T21:25:09.350356Z'}, {'type': 'FOLDER', 'name': 'projects/ee-modis250/assets/NEON', 'id': 'projects/ee-modis250/assets/NEON', 'updateTime': '2023-01-20T19:45:02.355050Z'}, {'type': 'FOLDER', 'name': 'projects/ee-modis250/assets/Validation', 'id': 'projects/ee-modis250/assets/Validation', 'updateTime': '2022-11-03T22:01:11.976714Z'}, {'type': 'IMAGE', 'name': 'projects/ee-modis250/assets/estimateLAI100m', 'id': 'projects/ee-modis250/assets/estimateLAI100m', 'updateTime': '2022-11-07T22:30:44.944973Z'}, {'type': 'IMAGE', 'name': 'projects/ee-modis250/assets/estimateLAI100mb', 'id': 'projects/ee-modis250/assets/estimateLAI100mb', 'updateTime': '2022-11-07T22:51:59.981611Z'}, {'type': 'IMAGE', 'name': 'projects/ee-modis250/assets/estimateLAI12V', 'id': 'projects/ee-modis250/assets/estimateLAI12V', 'updateTime': '2022-11-08T16:32:47.119182Z'}, {'type': 'IMAGE', 'name': 'projects/ee-modis250/assets/estimateLAI4', 'id': 'projects/ee-modis250/assets/estimateLAI4', 'updateTime': '2022-11-08T02:48:30.329278Z'}, {'type': 'IMAGE', 'name': 'projects/ee-modis250/assets/estimateLAI5', 'id': 'projects/ee-modis250/assets/estimateLAI5', 'updateTime': '2022-11-08T03:10:08.575496Z'}, {'type': 'IMAGE', 'name': 'projects/ee-modis250/assets/estimateLAI6', 'id': 'projects/ee-modis250/assets/estimateLAI6', 'updateTime': '2022-11-08T04:22:46.737415Z'}, {'type': 'IMAGE', 'name': 'projects/ee-modis250/assets/estimateLAI7', 'id': 'projects/ee-modis250/assets/estimateLAI7', 'updateTime': '2022-11-08T13:20:35.196954Z'}, {'type': 'FOLDER', 'name': 'projects/ee-modis250/assets/misc', 'id': 'projects/ee-modis250/assets/misc', 'updateTime': '2022-11-03T22:10:13.297492Z'}, {'type': 'FOLDER', 'name': 'projects/ee-modis250/assets/modisLandsat', 'id': 'projects/ee-modis250/assets/modisLandsat', 'updateTime': '2022-11-03T22:05:41.253798Z'}, {'type': 'FOLDER', 'name': 'projects/ee-modis250/assets/modisLandsatTrees', 'id': 'projects/ee-modis250/assets/modisLandsatTrees', 'updateTime': '2022-12-02T19:27:58.595441Z'}, {'type': 'FOLDER', 'name': 'projects/ee-modis250/assets/modisLandsatTreesNAIVE', 'id': 'projects/ee-modis250/assets/modisLandsatTreesNAIVE', 'updateTime': '2022-12-09T15:59:47.954598Z'}, {'type': 'FOLDER', 'name': 'projects/ee-modis250/assets/modisLandsattest', 'id': 'projects/ee-modis250/assets/modisLandsattest', 'updateTime': '2023-02-10T18:07:36.812590Z'}, {'type': 'IMAGE', 'name': 'projects/ee-modis250/assets/mosaicfCOVER', 'id': 'projects/ee-modis250/assets/mosaicfCOVER', 'updateTime': '2022-12-06T18:36:06.775891Z'}, {'type': 'IMAGE', 'name': 'projects/ee-modis250/assets/mosaictest', 'id': 'projects/ee-modis250/assets/mosaictest', 'updateTime': '2022-12-06T18:20:19.167030Z'}, {'type': 'IMAGE', 'name': 'projects/ee-modis250/assets/test1', 'id': 'projects/ee-modis250/assets/test1', 'updateTime': '2022-11-05T01:33:49.238391Z'}, {'type': 'FOLDER', 'name': 'projects/ee-modis250/assets/validationCCRS', 'id': 'projects/ee-modis250/assets/validationCCRS', 'updateTime': '2022-11-03T22:03:43.026249Z'}, {'type': 'FOLDER', 'name': 'projects/ee-modis250/assets/validationGBOV', 'id': 'projects/ee-modis250/assets/validationGBOV', 'updateTime': '2022-11-03T22:04:38.127494Z'}]}\n"
     ]
    }
   ],
   "source": [
    "# print assets for this service account on GEE google cloud project\n",
    "print(ee.data.listAssets({'parent': 'projects/ee-modis250/assets/'}))"
   ]
  },
  {
   "cell_type": "code",
   "execution_count": null,
   "id": "2cd26379-49c5-43aa-b29a-309b742fb272",
   "metadata": {},
   "outputs": [],
   "source": []
  }
 ],
 "metadata": {
  "kernelspec": {
   "display_name": "Python 3 (ipykernel)",
   "language": "python",
   "name": "python3"
  },
  "language_info": {
   "codemirror_mode": {
    "name": "ipython",
    "version": 3
   },
   "file_extension": ".py",
   "mimetype": "text/x-python",
   "name": "python",
   "nbconvert_exporter": "python",
   "pygments_lexer": "ipython3",
   "version": "3.11.2"
  }
 },
 "nbformat": 4,
 "nbformat_minor": 5
}
